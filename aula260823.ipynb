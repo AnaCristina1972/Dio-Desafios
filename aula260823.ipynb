{
  "nbformat": 4,
  "nbformat_minor": 0,
  "metadata": {
    "colab": {
      "provenance": [],
      "authorship_tag": "ABX9TyNhVNPpO3TiyZhHkFI2l8Rp",
      "include_colab_link": true
    },
    "kernelspec": {
      "name": "python3",
      "display_name": "Python 3"
    },
    "language_info": {
      "name": "python"
    }
  },
  "cells": [
    {
      "cell_type": "markdown",
      "metadata": {
        "id": "view-in-github",
        "colab_type": "text"
      },
      "source": [
        "<a href=\"https://colab.research.google.com/github/AnaCristina1972/Dio-Desafios/blob/main/aula260823.ipynb\" target=\"_parent\"><img src=\"https://colab.research.google.com/assets/colab-badge.svg\" alt=\"Open In Colab\"/></a>"
      ]
    },
    {
      "cell_type": "code",
      "execution_count": null,
      "metadata": {
        "id": "ZH73-D68gtEF"
      },
      "outputs": [],
      "source": [
        "from numpy import *\n",
        "notas=array(eval(input(\"Notas: \")))\n",
        "print(f\"Maior nota na sala:{max(notas)} \")\n",
        "print(\"\")\n",
        "print(f\"Menor nota na sala:{min(notas)} \")\n",
        "print(\"\")\n",
        "print(f\"Quantidade de alunos na sala:{size(notas)} \")\n",
        "print(\"\")\n",
        "print(f\"Medias Geral:{sum(notas)/size(notas)} \")"
      ]
    },
    {
      "cell_type": "code",
      "source": [
        "for i in range(5):\n",
        "    print(i)\n",
        "\n",
        "\n",
        "n=int(input(\"Qtde. de termos \"))\n",
        "soma=0\n",
        "i=0\n",
        "\n",
        "while(i<n):\n",
        "    soma=soma+2**i\n",
        "    i=i+1\n",
        "\n",
        "print(soma)\n"
      ],
      "metadata": {
        "id": "zn3ypT75gxi4"
      },
      "execution_count": null,
      "outputs": []
    },
    {
      "cell_type": "code",
      "source": [
        "from numpy import *\n",
        "\n",
        "v=array(eval(input(\"Prenche seu vetor --->  Vetor:\")))\n",
        "\n",
        "print(v)\n",
        "print(\"\")\n",
        "print(v)"
      ],
      "metadata": {
        "id": "umz6wKAAg6tP"
      },
      "execution_count": null,
      "outputs": []
    },
    {
      "cell_type": "code",
      "source": [
        "from numpy import *\n",
        "notas=array([6.2,2.3,9.4,5.1,8.9,9.8,10.0,7.0,6.3,4.4])\n",
        "\n",
        "print(notas)\n",
        "print(\"\")\n",
        "print(notas[2])\n",
        "print(\"\")\n",
        "notas[4]=notas[4]+1.0\n",
        "notas[7]=notas[7]+1.0\n",
        "print(notas)\n"
      ],
      "metadata": {
        "id": "eAdH8Fylg_w_"
      },
      "execution_count": null,
      "outputs": []
    },
    {
      "cell_type": "code",
      "source": [
        "from numpy import *\n",
        "v=range(5)\n",
        "\n",
        "print(v)\n",
        "v=arange(5)\n",
        "print(v)\n"
      ],
      "metadata": {
        "colab": {
          "base_uri": "https://localhost:8080/"
        },
        "id": "YqjIw0xEhA0v",
        "outputId": "b8c53471-12b6-462a-be49-a6aa1373a39e"
      },
      "execution_count": 6,
      "outputs": [
        {
          "output_type": "stream",
          "name": "stdout",
          "text": [
            "range(0, 5)\n",
            "[0 1 2 3 4]\n"
          ]
        }
      ]
    },
    {
      "cell_type": "code",
      "source": [
        "for i in [1,2,3]:\n",
        "    print(\"\",i)\n",
        "\n"
      ],
      "metadata": {
        "colab": {
          "base_uri": "https://localhost:8080/"
        },
        "id": "0J8O5SFhhKhv",
        "outputId": "f7c4c4c9-2cfd-421e-a30a-eb21250cc0b6"
      },
      "execution_count": 5,
      "outputs": [
        {
          "output_type": "stream",
          "name": "stdout",
          "text": [
            " 1\n",
            " 2\n",
            " 3\n"
          ]
        }
      ]
    },
    {
      "cell_type": "code",
      "source": [
        "for ch in \"Python\":\n",
        "    print(ch)\n",
        "\n",
        "\n"
      ],
      "metadata": {
        "colab": {
          "base_uri": "https://localhost:8080/"
        },
        "id": "D9QUpWe0hu8f",
        "outputId": "985d49be-3526-439c-ee28-557f860077a7"
      },
      "execution_count": 2,
      "outputs": [
        {
          "output_type": "stream",
          "name": "stdout",
          "text": [
            "P\n",
            "y\n",
            "t\n",
            "h\n",
            "o\n",
            "n\n"
          ]
        }
      ]
    },
    {
      "cell_type": "code",
      "source": [
        "for i in range(0,21,2): # 0 fica é o inicial, 21 é o valor que sera a parada -1, 2 é o incremento\n",
        "    print(i)"
      ],
      "metadata": {
        "colab": {
          "base_uri": "https://localhost:8080/"
        },
        "id": "kgBAEQOEhxXu",
        "outputId": "77e93448-e5c0-4f61-da09-3eb834914b1d"
      },
      "execution_count": 1,
      "outputs": [
        {
          "output_type": "stream",
          "name": "stdout",
          "text": [
            "0\n",
            "2\n",
            "4\n",
            "6\n",
            "8\n",
            "10\n",
            "12\n",
            "14\n",
            "16\n",
            "18\n",
            "20\n"
          ]
        }
      ]
    },
    {
      "cell_type": "code",
      "source": [
        "from numpy import *\n",
        "notas=array(eval(input(\"Informe as notas\")))\n",
        "\n",
        "cred=array(eval(input(\"Informe as Creditos\")))\n",
        "i=0\n",
        "numerador=0\n",
        "denominador=0\n",
        "while(i<size(notas)):\n",
        "  numerador=numerador+notas[i]*cred[i]\n",
        "  denominador=denominador+cred[i]\n",
        "  i=i+1\n",
        "coeficiente=numerador/denominador\n",
        "print(coeficiente,3)"
      ],
      "metadata": {
        "id": "5QtG4frmnmgG"
      },
      "execution_count": null,
      "outputs": []
    },
    {
      "cell_type": "code",
      "source": [
        "from numpy import *\n",
        "votos=array(eval(input(\"quat. votos\")))\n",
        "\n",
        "print(sum(votos[:-1]))\n",
        "print(sum(votos[:-3]))\n",
        "venc=max(votos[:-3])/sum(votos[:-3])*100\n",
        "print(round(venc,2))\n"
      ],
      "metadata": {
        "id": "w70AJfPxqQOm"
      },
      "execution_count": null,
      "outputs": []
    },
    {
      "cell_type": "code",
      "source": [
        "dna=input(\"Sequencia DNA\").upper()\n",
        "copia=\"\"\n",
        "i=0\n",
        "while i<len(dna)\n",
        "    if()"
      ],
      "metadata": {
        "id": "zZw7UhN4zsz1"
      },
      "execution_count": null,
      "outputs": []
    },
    {
      "cell_type": "code",
      "source": [
        "s=input(\"Digite uma string\")\n",
        "inv=\"\"\n",
        "i=-1\n",
        "while i >= -len(s):\n",
        "  inv=inv+s[i]\n",
        "  i=i-1\n",
        "print(inv)"
      ],
      "metadata": {
        "colab": {
          "base_uri": "https://localhost:8080/"
        },
        "id": "-U0t23Sp03-e",
        "outputId": "101fd8a9-2406-4137-acdc-7fc68756f7bb"
      },
      "execution_count": 13,
      "outputs": [
        {
          "output_type": "stream",
          "name": "stdout",
          "text": [
            "Digite uma stringAna Cristina\n",
            "anitsirC anA\n"
          ]
        }
      ]
    },
    {
      "cell_type": "code",
      "source": [
        "nome_meses='JamFevMerAbrMaiJunJulAgosSetOutNovDez'\n",
        "data = input(\"Informe a data (dd/mm/aaaa): \")\n",
        "dia=int(data[:2])\n",
        "mes=int(data[3:5])\n",
        "ano=int(data[-4])\n",
        "ini=3*(mes-1)\n",
        "fim=ini +3\n",
        "mes_abrev = nome_meses[ini : fim]\n",
        "nova_data= str(dia) + '-' + mes_abrev + '-' + ano\n",
        "print(nova_data)"
      ],
      "metadata": {
        "colab": {
          "base_uri": "https://localhost:8080/",
          "height": 245
        },
        "id": "e7Ni_DpX12Me",
        "outputId": "ca48a282-29d3-4a9d-c311-6740e536b6a0"
      },
      "execution_count": 16,
      "outputs": [
        {
          "name": "stdout",
          "output_type": "stream",
          "text": [
            "Informe a data (dd/mm/aaaa): 26/08/2023\n"
          ]
        },
        {
          "output_type": "error",
          "ename": "TypeError",
          "evalue": "ignored",
          "traceback": [
            "\u001b[0;31m---------------------------------------------------------------------------\u001b[0m",
            "\u001b[0;31mTypeError\u001b[0m                                 Traceback (most recent call last)",
            "\u001b[0;32m<ipython-input-16-d58eeb9ef932>\u001b[0m in \u001b[0;36m<cell line: 9>\u001b[0;34m()\u001b[0m\n\u001b[1;32m      7\u001b[0m \u001b[0mfim\u001b[0m\u001b[0;34m=\u001b[0m\u001b[0mini\u001b[0m \u001b[0;34m+\u001b[0m\u001b[0;36m3\u001b[0m\u001b[0;34m\u001b[0m\u001b[0;34m\u001b[0m\u001b[0m\n\u001b[1;32m      8\u001b[0m \u001b[0mmes_abrev\u001b[0m \u001b[0;34m=\u001b[0m \u001b[0mnome_meses\u001b[0m\u001b[0;34m[\u001b[0m\u001b[0mini\u001b[0m \u001b[0;34m:\u001b[0m \u001b[0mfim\u001b[0m\u001b[0;34m]\u001b[0m\u001b[0;34m\u001b[0m\u001b[0;34m\u001b[0m\u001b[0m\n\u001b[0;32m----> 9\u001b[0;31m \u001b[0mnova_data\u001b[0m\u001b[0;34m=\u001b[0m \u001b[0mstr\u001b[0m\u001b[0;34m(\u001b[0m\u001b[0;34m(\u001b[0m\u001b[0mdia\u001b[0m\u001b[0;34m)\u001b[0m \u001b[0;34m+\u001b[0m \u001b[0;34m'-'\u001b[0m \u001b[0;34m+\u001b[0m \u001b[0mmes_abrev\u001b[0m \u001b[0;34m+\u001b[0m \u001b[0;34m'-'\u001b[0m \u001b[0;34m+\u001b[0m \u001b[0mano\u001b[0m\u001b[0;34m)\u001b[0m\u001b[0;34m\u001b[0m\u001b[0;34m\u001b[0m\u001b[0m\n\u001b[0m\u001b[1;32m     10\u001b[0m \u001b[0mprint\u001b[0m\u001b[0;34m(\u001b[0m\u001b[0mnova_data\u001b[0m\u001b[0;34m)\u001b[0m\u001b[0;34m\u001b[0m\u001b[0;34m\u001b[0m\u001b[0m\n",
            "\u001b[0;31mTypeError\u001b[0m: unsupported operand type(s) for +: 'int' and 'str'"
          ]
        }
      ]
    },
    {
      "cell_type": "code",
      "source": [
        "from numpy import *\n",
        "quadro=array(eval(input(\"M:\")))\n",
        "print(quadro)\n",
        "\n"
      ],
      "metadata": {
        "colab": {
          "base_uri": "https://localhost:8080/"
        },
        "id": "6eHgjE5g5RC9",
        "outputId": "7dd9dae7-cb4a-4086-f3ae-4bee4891986e"
      },
      "execution_count": 17,
      "outputs": [
        {
          "output_type": "stream",
          "name": "stdout",
          "text": [
            "M:[[46,37,38],[27,23,17]]\n",
            "[[46 37 38]\n",
            " [27 23 17]]\n"
          ]
        }
      ]
    },
    {
      "cell_type": "code",
      "source": [
        "from numpy import *\n",
        "m0=zeros((3,2))\n",
        "print(m0)"
      ],
      "metadata": {
        "colab": {
          "base_uri": "https://localhost:8080/"
        },
        "id": "ZBcGDx7U53kX",
        "outputId": "a832a917-050c-4f3b-8ba6-0b468b864815"
      },
      "execution_count": 21,
      "outputs": [
        {
          "output_type": "stream",
          "name": "stdout",
          "text": [
            "[[0. 0.]\n",
            " [0. 0.]\n",
            " [0. 0.]]\n"
          ]
        }
      ]
    },
    {
      "cell_type": "code",
      "source": [
        "from numpy import *\n",
        "m0=ones((3,5))\n",
        "print(m0)"
      ],
      "metadata": {
        "colab": {
          "base_uri": "https://localhost:8080/"
        },
        "id": "sH80EjXB4y4-",
        "outputId": "5f565c02-fd50-4f24-f910-148f38cc1238"
      },
      "execution_count": 23,
      "outputs": [
        {
          "output_type": "stream",
          "name": "stdout",
          "text": [
            "[[1. 1. 1. 1. 1.]\n",
            " [1. 1. 1. 1. 1.]\n",
            " [1. 1. 1. 1. 1.]]\n"
          ]
        }
      ]
    },
    {
      "cell_type": "code",
      "source": [
        "\n",
        "quadro = array([\n",
        "[46, 37, 38],\n",
        "[27, 23, 17],\n",
        "[26, 18, 26],\n",
        "[19, 18, 19],\n",
        "[17, 10, 15],\n",
        "[12, 8, 21],\n",
        "[10, 18, 14]\n",
        "])\n",
        "\n",
        "# Tipos de medalhas (no. de colunas)\n",
        "MEDALHAS = shape(quadro)[1]\n",
        "# Variavel acumuladora\n",
        "total = 0\n",
        "# Processa a j-esima coluna na linha 4\n",
        "\n",
        "for j in range(MEDALHAS):\n",
        "  total = total + quadro[3,j]\n",
        "\n",
        "print(total)"
      ],
      "metadata": {
        "colab": {
          "base_uri": "https://localhost:8080/"
        },
        "id": "G6c3qK4x66pt",
        "outputId": "37675ac5-1a9e-4a0b-a7ff-1a14e246806f"
      },
      "execution_count": 40,
      "outputs": [
        {
          "output_type": "stream",
          "name": "stdout",
          "text": [
            "56\n"
          ]
        }
      ]
    },
    {
      "cell_type": "code",
      "source": [
        "\n",
        "from numpy import *\n",
        "# Respostas dos alunos às questões\n",
        "resp = array ([\n",
        "['A', 'B', 'A', 'C', 'C', 'D', 'E', 'E', 'A', 'D'],\n",
        "['D', 'B', 'A', 'B', 'C', 'A', 'E', 'E', 'A', 'D'],\n",
        "['E', 'D', 'D', 'A', 'C', 'B', 'E', 'E', 'A', 'D'],\n",
        "['C', 'B', 'A', 'E', 'D', 'C', 'E', 'E', 'A', 'D'],\n",
        "['A', 'B', 'D', 'C', 'C', 'D', 'E', 'E', 'A', 'D'],\n",
        "['B', 'B', 'E', 'C', 'C', 'D', 'E', 'E', 'A', 'D'],\n",
        "['B', 'B', 'A', 'C', 'C', 'D', 'E', 'E', 'A', 'D'],\n",
        "['E', 'B', 'E', 'C', 'C', 'D', 'E', 'E', 'A', 'D']])\n",
        "# Gabarito das questões\n",
        "gab = array(\n",
        "['D', 'B', 'D', 'C', 'C', 'D', 'A', 'E', 'A', 'D'])\n",
        "\n",
        "# Constantes\n",
        "NALUNOS = shape(resp)[0] # No. de alunos\n",
        "NQUEST = shape(resp)[1] # No. de questoes\n",
        "\n",
        "# Vetor das notas de cada aluno\n",
        "notas = zeros((NALUNOS), dtype=int)\n",
        "\n",
        "# Percorre cada linha (aluno)\n",
        "for i in range(NALUNOS):\n",
        "# Pontua um aluno i, verificando cada questao\n",
        "\tfor j in range(NQUEST):\n",
        "\t\tif (resp[i,j] == gab[j]):\n",
        "\t\t\tnotas[i] = notas[i] + 1\n",
        "print(notas)\n"
      ],
      "metadata": {
        "id": "_pEDm2sy-6jF"
      },
      "execution_count": null,
      "outputs": []
    },
    {
      "cell_type": "code",
      "source": [],
      "metadata": {
        "id": "AZC6Fq5j-78H"
      },
      "execution_count": null,
      "outputs": []
    }
  ]
}