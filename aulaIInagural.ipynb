{
  "nbformat": 4,
  "nbformat_minor": 0,
  "metadata": {
    "colab": {
      "provenance": [],
      "authorship_tag": "ABX9TyNx/YjUMATpQjnVG7Cgn22o",
      "include_colab_link": true
    },
    "kernelspec": {
      "name": "python3",
      "display_name": "Python 3"
    },
    "language_info": {
      "name": "python"
    }
  },
  "cells": [
    {
      "cell_type": "markdown",
      "metadata": {
        "id": "view-in-github",
        "colab_type": "text"
      },
      "source": [
        "<a href=\"https://colab.research.google.com/github/AnaCristina1972/Dio-Desafios/blob/main/aulaIInagural.ipynb\" target=\"_parent\"><img src=\"https://colab.research.google.com/assets/colab-badge.svg\" alt=\"Open In Colab\"/></a>"
      ]
    },
    {
      "cell_type": "code",
      "execution_count": 7,
      "metadata": {
        "colab": {
          "base_uri": "https://localhost:8080/"
        },
        "id": "soPh1bNu2vB0",
        "outputId": "6be3ff78-3236-48a0-dbfc-faf072a586d7"
      },
      "outputs": [
        {
          "output_type": "stream",
          "name": "stdout",
          "text": [
            "Variável 1: 15\n",
            "variável 2: 48\n",
            " Variável 3:  48\n",
            "variável 4: (40, 5)\n",
            "Variável 5:  Guido vom Rossum\n",
            "Variável 5:  Guido vom Rossumcriou o Python\n",
            "Testando... 16.5\n"
          ]
        }
      ],
      "source": [
        "v1=15\n",
        "print(\"Variável 1:\",v1)\n",
        "v2=12*4\n",
        "print(\"variável 2:\",v2)\n",
        "v3=v2\n",
        "print(\" Variável 3: \",v3)\n",
        "v4=v3-8+0,5\n",
        "print(\"variável 4:\",v4)\n",
        "v5=\"Guido vom Rossum\"\n",
        "print(\"Variável 5: \",v5)\n",
        "v6=v5+(\"criou o Python\")\n",
        "print(\"Variável 5: \",v6)\n",
        "v1=v1+1.5\n",
        "print(\"Testando...\",v1)\n",
        "\n"
      ]
    },
    {
      "cell_type": "code",
      "source": [
        "nota=float(input(\"Digite uma nota \"))\n",
        "nota1=float(input(\"Digite segunda nota \"))\n",
        "\n",
        "media=(nota+nota1)/2\n",
        "print(\"A média \",media)"
      ],
      "metadata": {
        "colab": {
          "base_uri": "https://localhost:8080/"
        },
        "id": "UN1o6j5i52jq",
        "outputId": "145e6904-ca31-44e8-de3a-0b492b2154a6"
      },
      "execution_count": 8,
      "outputs": [
        {
          "output_type": "stream",
          "name": "stdout",
          "text": [
            "Digite uma nota 9.0\n",
            "Digite segunda nota 7.8\n",
            "A média  8.4\n"
          ]
        }
      ]
    },
    {
      "cell_type": "code",
      "source": [],
      "metadata": {
        "id": "uMRcgrUeLm_X"
      },
      "execution_count": null,
      "outputs": []
    },
    {
      "cell_type": "code",
      "source": [
        "print(\"Equação do segundo grau\")\n",
        "a=float(input(\"Digite o valor de A \"))\n",
        "b=float(input(\"Digite o valor de B \"))\n",
        "c=int(input(\"Digite o valor de C \"))\n",
        "\n",
        "delta=(b**2)-(4*a*c)\n",
        "print(\"Delta = \",delta)\n",
        "if(delta>=0):\n",
        "    X1=(-b+delta**(1/2))/(2*a)\n",
        "    X2=(-b-delta**(1/2))/(2*a)\n",
        "    print(\"\\nO valor de X linha eh: \",X1)\n",
        "    print(\"O valor de X 2 linha eh: \",X2)\n",
        "else:\n",
        "    print(\"Não é possivel calcular as Raízes\")\n",
        "\n",
        "\n",
        "\n",
        "\n"
      ],
      "metadata": {
        "colab": {
          "base_uri": "https://localhost:8080/"
        },
        "id": "XI7eegO98f2y",
        "outputId": "9d84961f-8a3f-4357-8579-d1b8ab9121e0"
      },
      "execution_count": 15,
      "outputs": [
        {
          "output_type": "stream",
          "name": "stdout",
          "text": [
            "Equação do segundo grau\n",
            "Digite o valor de A 1\n",
            "Digite o valor de B 2\n",
            "Digite o valor de C -3\n",
            "Delta =  16.0\n",
            "\n",
            "O valor de X linha eh:  1.0\n",
            "O valor de X 2 linha eh:  -3.0\n"
          ]
        }
      ]
    },
    {
      "cell_type": "code",
      "source": [
        "print(abs(-3))\n",
        "print(abs(3))\n",
        "print(int(1.8))\n",
        "print(int(\"3\"))\n",
        "print(max(1,2,3,4))\n",
        "print(min(1,2,3,4))\n",
        "x=5.1729\n",
        "print(round(x,1))"
      ],
      "metadata": {
        "id": "kZHC9COxEMlY"
      },
      "execution_count": null,
      "outputs": []
    },
    {
      "cell_type": "markdown",
      "source": [
        "x=5.1729    \n",
        "round(x,1) Essa função arredonda os valores"
      ],
      "metadata": {
        "id": "DWexrb2zFoF4"
      }
    },
    {
      "cell_type": "code",
      "source": [
        "from math import *\n",
        "ang=90\n",
        "print(round(sin(ang),1))\n",
        "print(sin(radians(ang)))"
      ],
      "metadata": {
        "colab": {
          "base_uri": "https://localhost:8080/"
        },
        "id": "ZkVl0kq8HUT7",
        "outputId": "e45563b8-3fc0-4e21-a60e-dfeaaf02df2b"
      },
      "execution_count": 17,
      "outputs": [
        {
          "output_type": "stream",
          "name": "stdout",
          "text": [
            "0.9\n",
            "1.0\n"
          ]
        }
      ]
    },
    {
      "cell_type": "code",
      "source": [
        "# Calcula o valor do ingresso\n",
        "ingresso = float(input(\"Valor: \"))\n",
        "opcao = input(\"Meia entrada? (S/N) \")\n",
        "if (opcao.upper() == \"S\"):\n",
        "\tingresso = ingresso/2\n",
        "print(round(ingresso, 2))"
      ],
      "metadata": {
        "id": "4VUF6EW1KAtG"
      },
      "execution_count": null,
      "outputs": []
    },
    {
      "cell_type": "code",
      "source": [
        "nome1 = 'dragao'\n",
        "nome2 = 'harpia'\n",
        "nome3 = 'Dragao'\n",
        "print(nome1 > nome2)\n",
        "print(nome1 < nome2)\n",
        "print(nome1 == nome3)"
      ],
      "metadata": {
        "colab": {
          "base_uri": "https://localhost:8080/"
        },
        "id": "Ufh0jip4KgdD",
        "outputId": "f85a695f-dbf1-4792-851b-e80fd2798849"
      },
      "execution_count": 18,
      "outputs": [
        {
          "output_type": "stream",
          "name": "stdout",
          "text": [
            "False\n",
            "True\n",
            "False\n"
          ]
        }
      ]
    },
    {
      "cell_type": "markdown",
      "source": [
        "O Python na comparação de string, compara a ordem alfabetica."
      ],
      "metadata": {
        "id": "4evnshsOLHOg"
      }
    },
    {
      "cell_type": "code",
      "source": [
        "nota=float(input(\"Digite uma nota \"))\n",
        "nota1=float(input(\"Digite segunda nota \"))\n",
        "nota3=float(input(\"Digite terceira nota \"))\n",
        "\n",
        "media=(nota+nota1+nota3)/3\n",
        "\n",
        "if media<7:\n",
        "  print(f\"A média é {media} Aluno aprovado\")\n",
        "else:\n",
        "  print(f\"A média é {media} Aluno reprovado!!\")\n"
      ],
      "metadata": {
        "colab": {
          "base_uri": "https://localhost:8080/"
        },
        "id": "1GdZEa5CLbjG",
        "outputId": "95fb7826-c8fd-4189-a864-b9a69a0c719a"
      },
      "execution_count": 21,
      "outputs": [
        {
          "output_type": "stream",
          "name": "stdout",
          "text": [
            "Digite uma nota 9\n",
            "Digite segunda nota 8\n",
            "Digite terceira nota 7\n",
            "A média é 8.0 Aluno reprovado!!\n"
          ]
        }
      ]
    },
    {
      "cell_type": "code",
      "source": [
        "nota=float(input(\"Digite uma nota \"))\n",
        "nota1=float(input(\"Digite segunda nota \"))\n",
        "nota3=float(input(\"Digite terceira nota \"))\n",
        "\n",
        "media=(nota+nota1+nota3)/3\n",
        "\n",
        "if (media==10):\n",
        "  print(f\"Exelente!!!\\n A média é {media} Aluno aprovado\")\n",
        "elif(media>=9 and media<10):\n",
        "  print(f\"Otimo!!!\\n A média é {media} Aluno aprovado\")\n",
        "elif(media>=7 and media<9):\n",
        "  print(f\"Bom!!!\\n A média é {media} Aluno aprovado\")\n",
        "elif(media>=5 and media<7):\n",
        "  print(f\"Regular!!!\\n A média é {media} Aluno reprovado\")\n",
        "elif(media>=4 and media<5):\n",
        "  print(f\"Ruim!!!\\n A média é {media} Aluno reprovado\")\n",
        "elif(media<4):\n",
        "  print(f\"Pessimo!!!\\n A média é {media} Aluno reprovado\")\n",
        "else:\n",
        "  print(f\"Nota Inválida\")"
      ],
      "metadata": {
        "colab": {
          "base_uri": "https://localhost:8080/"
        },
        "id": "cZkaggAyNuBQ",
        "outputId": "1b3f1ff6-1091-45ea-cb44-d88c953f4bb5"
      },
      "execution_count": 25,
      "outputs": [
        {
          "output_type": "stream",
          "name": "stdout",
          "text": [
            "Digite uma nota 11\n",
            "Digite segunda nota 5\n",
            "Digite terceira nota 4\n",
            "Bom!!!\n",
            " A média é 6.666666666666667 Aluno reprovado\n"
          ]
        }
      ]
    }
  ]
}