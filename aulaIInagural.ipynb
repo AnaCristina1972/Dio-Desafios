{
  "nbformat": 4,
  "nbformat_minor": 0,
  "metadata": {
    "colab": {
      "provenance": [],
      "authorship_tag": "ABX9TyPqMtzemGgKl9myVZLEV1b4",
      "include_colab_link": true
    },
    "kernelspec": {
      "name": "python3",
      "display_name": "Python 3"
    },
    "language_info": {
      "name": "python"
    }
  },
  "cells": [
    {
      "cell_type": "markdown",
      "metadata": {
        "id": "view-in-github",
        "colab_type": "text"
      },
      "source": [
        "<a href=\"https://colab.research.google.com/github/AnaCristina1972/Dio-Desafios/blob/main/aulaIInagural.ipynb\" target=\"_parent\"><img src=\"https://colab.research.google.com/assets/colab-badge.svg\" alt=\"Open In Colab\"/></a>"
      ]
    },
    {
      "cell_type": "code",
      "execution_count": 2,
      "metadata": {
        "colab": {
          "base_uri": "https://localhost:8080/"
        },
        "id": "soPh1bNu2vB0",
        "outputId": "685ef589-8b22-45bd-f720-b40add457a6a"
      },
      "outputs": [
        {
          "output_type": "stream",
          "name": "stdout",
          "text": [
            "Variável 1: 15\n",
            "variável 2: 48\n",
            " Variável 3:  48\n",
            "variável 4: (40, 5)\n",
            " Variável 5:  Guido vom Rossum\n",
            " Variável 5:  Guido vom Rossumcriou o Python\n",
            "Testando... 16.5\n"
          ]
        }
      ],
      "source": [
        "v1=15\n",
        "print(\"Variável 1:\",v1)\n",
        "v2=12*4\n",
        "print(\"variável 2:\",v2)\n",
        "v3=v2\n",
        "print(\" Variável 3: \",v3)\n",
        "v4=v3-8+0,5\n",
        "print(\"variável 4:\",v4)\n",
        "v5=\"Guido vom Rossum\"\n",
        "print(\"Variável 5: \",v5)\n",
        "v6=v5+(\"criou o Python\")\n",
        "print(\"Variável 5: \",v6)\n",
        "v1=v1+1.5\n",
        "print(\"Testando...\",v1)\n",
        "\n"
      ]
    }
  ]
}